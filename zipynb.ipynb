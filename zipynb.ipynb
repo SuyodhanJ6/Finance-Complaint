{
 "cells": [
  {
   "cell_type": "code",
   "execution_count": 1,
   "metadata": {},
   "outputs": [],
   "source": [
    "import shutil"
   ]
  },
  {
   "cell_type": "code",
   "execution_count": 16,
   "metadata": {},
   "outputs": [],
   "source": [
    "import os, sys\n",
    "from datetime import datetime\n",
    "from finance_complaint.exception import FinanceException\n",
    "from finance_complaint.entity.config_entity import DataIngestionConfig\n",
    "# from finance_complaint.entity.metadata_entity import DataIngestionMetadata\n",
    "\n",
    "\n",
    "class DataIngestion:\n",
    "    def __init__(self, data_ingestion_config : DataIngestionConfig, n_retry : int = 5):\n",
    "        try:\n",
    "            self.data_ingestion_config = data_ingestion_config\n",
    "            self.n_retry = n_retry\n",
    "\n",
    "        except Exception as e:\n",
    "            raise FinanceException(e, sys)\n",
    "        \n",
    "    def get_required_intervals(self):\n",
    "        start_date = self.data_ingestion_config.from_date\n",
    "        print(start_date)\n",
    "        end_date = self.data_ingestion_config.to_date\n",
    "        print(end_date)\n",
    "        "
   ]
  },
  {
   "cell_type": "code",
   "execution_count": 17,
   "metadata": {},
   "outputs": [
    {
     "ename": "TypeError",
     "evalue": "__init__() missing 1 required positional argument: 'data_ingestion_config'",
     "output_type": "error",
     "traceback": [
      "\u001b[0;31m---------------------------------------------------------------------------\u001b[0m",
      "\u001b[0;31mTypeError\u001b[0m                                 Traceback (most recent call last)",
      "Cell \u001b[0;32mIn[17], line 1\u001b[0m\n\u001b[0;32m----> 1\u001b[0m dateing \u001b[39m=\u001b[39m DataIngestion()\n",
      "\u001b[0;31mTypeError\u001b[0m: __init__() missing 1 required positional argument: 'data_ingestion_config'"
     ]
    }
   ],
   "source": [
    "dateing = DataIngestion()"
   ]
  },
  {
   "cell_type": "code",
   "execution_count": 6,
   "metadata": {},
   "outputs": [],
   "source": [
    "from datetime import datetime\n",
    "\n",
    "start_date = datetime.strptime(\"2023-01-30\", \"%Y-%m-%d\")\n",
    "end_date = datetime.strptime(\"2023-05-25\", \"%Y-%m-%d\")\n",
    "n_diff_days = (end_date - start_date).days"
   ]
  },
  {
   "cell_type": "code",
   "execution_count": 7,
   "metadata": {},
   "outputs": [
    {
     "name": "stdout",
     "output_type": "stream",
     "text": [
      "115\n"
     ]
    }
   ],
   "source": [
    "print(n_diff_days)"
   ]
  },
  {
   "cell_type": "code",
   "execution_count": 11,
   "metadata": {},
   "outputs": [],
   "source": [
    "freq = None\n",
    "if n_diff_days > 365:\n",
    "    freq = \"Y\"\n",
    "elif n_diff_days > 30:\n",
    "    freq = \"M\"\n",
    "elif n_diff_days > 7:\n",
    "    freq = \"W\""
   ]
  },
  {
   "cell_type": "code",
   "execution_count": 8,
   "metadata": {},
   "outputs": [],
   "source": [
    "freq_map = {\n",
    "    365: \"Y\",  # Yearly\n",
    "    30: \"M\",   # Monthly\n",
    "    7: \"W\"     # Weekly\n",
    "}\n",
    "\n",
    "freq = freq_map.get(n_diff_days)\n"
   ]
  },
  {
   "cell_type": "code",
   "execution_count": 12,
   "metadata": {},
   "outputs": [
    {
     "name": "stdout",
     "output_type": "stream",
     "text": [
      "M\n"
     ]
    }
   ],
   "source": [
    "print(freq)"
   ]
  },
  {
   "cell_type": "code",
   "execution_count": 18,
   "metadata": {},
   "outputs": [
    {
     "name": "stdout",
     "output_type": "stream",
     "text": [
      "dict_items([((366, inf), 'Y'), ((31, 365), 'M'), ((8, 30), 'W'), ((1, 7), 'D')])\n"
     ]
    }
   ],
   "source": [
    "from datetime import datetime\n",
    "\n",
    "start_date = datetime.strptime(\"2023-01-30\", \"%Y-%m-%d\")\n",
    "end_date = datetime.strptime(\"2023-05-25\", \"%Y-%m-%d\")\n",
    "n_diff_days = (end_date - start_date).days\n",
    "\n",
    "freq_map = {\n",
    "    (366, float('inf')): \"Y\",    # Yearly for 366 days or more\n",
    "    (31, 365): \"M\",              # Monthly for 31-365 days\n",
    "    (8, 30): \"W\",                # Weekly for 8-30 days\n",
    "    (1, 7): \"D\"                  # Daily for 1-7 days\n",
    "}\n",
    "\n",
    "freq = None\n",
    "\n",
    "for range_key, frequency in freq_map.items():\n",
    "    if range_key[0] <= n_diff_days < range_key[1]:\n",
    "        freq = frequency\n",
    "        break\n",
    "\n",
    "print(freq_map.items())\n",
    "\n",
    "\n",
    "# print(f\"Freq = {freq}\")\n"
   ]
  },
  {
   "cell_type": "code",
   "execution_count": null,
   "metadata": {},
   "outputs": [],
   "source": [
    "import pandas as pd\n",
    "\n",
    "intervals  = pd.date_range(start=, \n",
    "                                       end=self.data_ingestion_config.to_date,\n",
    "                                       periods=2).astype(\"str\").tolist()"
   ]
  },
  {
   "cell_type": "code",
   "execution_count": 1,
   "metadata": {},
   "outputs": [],
   "source": [
    "from dataclasses import dataclass"
   ]
  },
  {
   "cell_type": "code",
   "execution_count": 2,
   "metadata": {},
   "outputs": [],
   "source": [
    "from finance_complaint.logger import logger"
   ]
  },
  {
   "cell_type": "code",
   "execution_count": 1,
   "metadata": {},
   "outputs": [],
   "source": [
    "required_interval = 5"
   ]
  },
  {
   "cell_type": "code",
   "execution_count": 2,
   "metadata": {},
   "outputs": [
    {
     "ename": "TypeError",
     "evalue": "object of type 'int' has no len()",
     "output_type": "error",
     "traceback": [
      "\u001b[0;31m---------------------------------------------------------------------------\u001b[0m",
      "\u001b[0;31mTypeError\u001b[0m                                 Traceback (most recent call last)",
      "Cell \u001b[0;32mIn[2], line 1\u001b[0m\n\u001b[0;32m----> 1\u001b[0m \u001b[39mfor\u001b[39;00m index \u001b[39min\u001b[39;00m \u001b[39mrange\u001b[39m(\u001b[39m1\u001b[39m, \u001b[39mlen\u001b[39;49m(required_interval)):\n\u001b[1;32m      2\u001b[0m     from_date, to_date \u001b[39m=\u001b[39m required_interval[index \u001b[39m-\u001b[39m \u001b[39m1\u001b[39m], required_interval[index]\n",
      "\u001b[0;31mTypeError\u001b[0m: object of type 'int' has no len()"
     ]
    }
   ],
   "source": [
    "for index in range(1, len(required_interval)):\n",
    "    from_date, to_date = required_interval[index - 1], required_interval[index]"
   ]
  },
  {
   "cell_type": "code",
   "execution_count": 4,
   "metadata": {},
   "outputs": [
    {
     "ename": "AttributeError",
     "evalue": "'str' object has no attribute '__dict__'",
     "output_type": "error",
     "traceback": [
      "\u001b[0;31m---------------------------------------------------------------------------\u001b[0m",
      "\u001b[0;31mAttributeError\u001b[0m                            Traceback (most recent call last)",
      "Cell \u001b[0;32mIn[4], line 2\u001b[0m\n\u001b[1;32m      1\u001b[0m p \u001b[39m=\u001b[39m (\u001b[39m\"\u001b[39m\u001b[39mprashant\u001b[39m\u001b[39m\"\u001b[39m)\n\u001b[0;32m----> 2\u001b[0m \u001b[39mprint\u001b[39m(p\u001b[39m.\u001b[39;49m\u001b[39m__dict__\u001b[39;49m)\n",
      "\u001b[0;31mAttributeError\u001b[0m: 'str' object has no attribute '__dict__'"
     ]
    }
   ],
   "source": []
  },
  {
   "cell_type": "code",
   "execution_count": null,
   "metadata": {},
   "outputs": [],
   "source": []
  }
 ],
 "metadata": {
  "kernelspec": {
   "display_name": "Python 3",
   "language": "python",
   "name": "python3"
  },
  "language_info": {
   "codemirror_mode": {
    "name": "ipython",
    "version": 3
   },
   "file_extension": ".py",
   "mimetype": "text/x-python",
   "name": "python",
   "nbconvert_exporter": "python",
   "pygments_lexer": "ipython3",
   "version": "3.8.16"
  },
  "orig_nbformat": 4
 },
 "nbformat": 4,
 "nbformat_minor": 2
}
